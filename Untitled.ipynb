{
 "cells": [
  {
   "cell_type": "code",
   "execution_count": null,
   "id": "f047a3dd",
   "metadata": {},
   "outputs": [],
   "source": []
  },
  {
   "cell_type": "code",
   "execution_count": null,
   "id": "899ec698",
   "metadata": {},
   "outputs": [
    {
     "name": "stdout",
     "output_type": "stream",
     "text": [
      "What is your name?\n",
      "enter 'q' at any time to quit\n",
      "First name: ssd\n",
      "Last name: sssdd\n",
      "Home addres: sssf33  r4r 33 \n",
      "What is your name?\n",
      "enter 'q' at any time to quit\n",
      "First name: \n",
      "Last name: \n",
      "Home addres: \n",
      "What is your name?\n",
      "enter 'q' at any time to quit\n",
      "First name: q\n"
     ]
    }
   ],
   "source": [
    "def get_full_information(first_name, last_name, address_book):\n",
    "    full_info = first_name + ' ' + last_name + ' ' + address_book\n",
    "    return full_info.title()\n",
    "\n",
    "while True:\n",
    "    print(\"What is your name?\")\n",
    "    print(\"enter 'q' at any time to quit\")\n",
    "    \n",
    "    f_name = input(\"First name: \")\n",
    "    if f_name == 'q':\n",
    "        break\n",
    "    \n",
    "    l_name = input(\"Last name: \")\n",
    "    if l_name == \"q\":\n",
    "        break\n",
    "    \n",
    "    address = input(\"Home addres: \")\n",
    "    if address == 'q':\n",
    "        break\n",
    "full_information = get_full_information(first_name, last_name, address_book)\n",
    "print(full_information)"
   ]
  },
  {
   "cell_type": "code",
   "execution_count": null,
   "id": "d9a5f540",
   "metadata": {},
   "outputs": [],
   "source": []
  },
  {
   "cell_type": "code",
   "execution_count": 9,
   "id": "56ab644c",
   "metadata": {},
   "outputs": [
    {
     "name": "stdout",
     "output_type": "stream",
     "text": [
      "{'14:30', '12:00'}\n"
     ]
    }
   ],
   "source": [
    "\n",
    "person1= {'09:00', '10:30', '11:30', '12:00', '13:00', '14:30'}\n",
    "person2= {'09:30', '10:00', '10:30', '12:00', '14:30', '16:00'}\n",
    "person3= {'09:00', '09:30', '11:00', '11:30', '12:00', '13:30', '14:30', '15:00'}\n",
    "person4= {'11:00', '11:30', '12:00', '14:00', '14:30', '16:30', '17:00'}\n",
    "\n",
    "\n",
    "result = person1.intersection(person2, person3, person4)\n",
    "        \n",
    "\n",
    "print(result)"
   ]
  },
  {
   "cell_type": "code",
   "execution_count": null,
   "id": "10ac8a1e",
   "metadata": {},
   "outputs": [],
   "source": []
  },
  {
   "cell_type": "code",
   "execution_count": null,
   "id": "41023fe6",
   "metadata": {},
   "outputs": [],
   "source": []
  },
  {
   "cell_type": "code",
   "execution_count": null,
   "id": "23290309",
   "metadata": {},
   "outputs": [],
   "source": []
  }
 ],
 "metadata": {
  "kernelspec": {
   "display_name": "Python 3 (ipykernel)",
   "language": "python",
   "name": "python3"
  },
  "language_info": {
   "codemirror_mode": {
    "name": "ipython",
    "version": 3
   },
   "file_extension": ".py",
   "mimetype": "text/x-python",
   "name": "python",
   "nbconvert_exporter": "python",
   "pygments_lexer": "ipython3",
   "version": "3.10.9"
  }
 },
 "nbformat": 4,
 "nbformat_minor": 5
}
